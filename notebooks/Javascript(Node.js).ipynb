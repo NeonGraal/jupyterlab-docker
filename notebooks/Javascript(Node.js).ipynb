{
 "cells": [
  {
   "cell_type": "code",
   "execution_count": 2,
   "metadata": {},
   "outputs": [
    {
     "data": {
      "text/plain": [
       "{ http_parser: '2.7.1',\n",
       "  node: '8.10.0',\n",
       "  v8: '6.2.414.50',\n",
       "  uv: '1.18.0',\n",
       "  zlib: '1.2.11',\n",
       "  ares: '1.14.0',\n",
       "  modules: '57',\n",
       "  nghttp2: '1.30.0',\n",
       "  openssl: '1.0.2n',\n",
       "  icu: '60.2',\n",
       "  unicode: '10.0',\n",
       "  cldr: '32.0.1',\n",
       "  tz: '2017c' }"
      ]
     },
     "execution_count": 2,
     "metadata": {},
     "output_type": "execute_result"
    }
   ],
   "source": [
    "process.versions"
   ]
  },
  {
   "cell_type": "code",
   "execution_count": null,
   "metadata": {},
   "outputs": [],
   "source": []
  }
 ],
 "metadata": {
  "kernelspec": {
   "display_name": "Javascript (Node.js)",
   "language": "javascript",
   "name": "javascript"
  },
  "language_info": {
   "file_extension": ".js",
   "mimetype": "application/javascript",
   "name": "javascript",
   "version": "8.10.0"
  }
 },
 "nbformat": 4,
 "nbformat_minor": 2
}
